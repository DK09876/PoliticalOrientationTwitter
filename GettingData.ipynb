{
  "cells": [
    {
      "attachments": {},
      "cell_type": "markdown",
      "metadata": {},
      "source": [
        "<h1>Import Statements<h1>"
      ]
    },
    {
      "cell_type": "code",
      "execution_count": 8,
      "metadata": {
        "id": "KtcBrKrqmYUL"
      },
      "outputs": [],
      "source": [
        "import tweepy\n",
        "import snscrape.modules.twitter as sntwitter\n",
        "import pandas as pd\n",
        "from nltk.corpus import stopwords\n",
        "import functools \n",
        "import nltk\n",
        "from nltk.tokenize import word_tokenize\n",
        "from nltk.corpus import stopwords\n"
      ]
    },
    {
      "cell_type": "code",
      "execution_count": 10,
      "metadata": {},
      "outputs": [
        {
          "name": "stderr",
          "output_type": "stream",
          "text": [
            "[nltk_data] Downloading package stopwords to /Users/dk/nltk_data...\n",
            "[nltk_data]   Unzipping corpora/stopwords.zip.\n",
            "[nltk_data] Downloading package punkt to /Users/dk/nltk_data...\n",
            "[nltk_data]   Unzipping tokenizers/punkt.zip.\n"
          ]
        },
        {
          "data": {
            "text/plain": [
              "True"
            ]
          },
          "execution_count": 10,
          "metadata": {},
          "output_type": "execute_result"
        }
      ],
      "source": [
        "nltk.download('stopwords')\n",
        "nltk.download('punkt')"
      ]
    },
    {
      "cell_type": "code",
      "execution_count": 11,
      "metadata": {},
      "outputs": [
        {
          "data": {
            "text/html": [
              "<div>\n",
              "<style scoped>\n",
              "    .dataframe tbody tr th:only-of-type {\n",
              "        vertical-align: middle;\n",
              "    }\n",
              "\n",
              "    .dataframe tbody tr th {\n",
              "        vertical-align: top;\n",
              "    }\n",
              "\n",
              "    .dataframe thead th {\n",
              "        text-align: right;\n",
              "    }\n",
              "</style>\n",
              "<table border=\"1\" class=\"dataframe\">\n",
              "  <thead>\n",
              "    <tr style=\"text-align: right;\">\n",
              "      <th></th>\n",
              "      <th>Democrat</th>\n",
              "      <th>Republican</th>\n",
              "    </tr>\n",
              "  </thead>\n",
              "  <tbody>\n",
              "    <tr>\n",
              "      <th>0</th>\n",
              "      <td>@RepAdams</td>\n",
              "      <td>@Robert_Aderholt</td>\n",
              "    </tr>\n",
              "    <tr>\n",
              "      <th>1</th>\n",
              "      <td>@RepPeteAguilar</td>\n",
              "      <td>@RepMarkAlford</td>\n",
              "    </tr>\n",
              "    <tr>\n",
              "      <th>2</th>\n",
              "      <td>@RepColinAllred</td>\n",
              "      <td>@RepRickAllen</td>\n",
              "    </tr>\n",
              "    <tr>\n",
              "      <th>3</th>\n",
              "      <td>@RepAuchincloss</td>\n",
              "      <td>@MarkAmodeiNV2</td>\n",
              "    </tr>\n",
              "    <tr>\n",
              "      <th>4</th>\n",
              "      <td>@RepBeccaB</td>\n",
              "      <td>@RepArmstrongND</td>\n",
              "    </tr>\n",
              "    <tr>\n",
              "      <th>...</th>\n",
              "      <td>...</td>\n",
              "      <td>...</td>\n",
              "    </tr>\n",
              "    <tr>\n",
              "      <th>206</th>\n",
              "      <td>@RepDWStweets</td>\n",
              "      <td>@RepWaltzPress</td>\n",
              "    </tr>\n",
              "    <tr>\n",
              "      <th>207</th>\n",
              "      <td>@RepMaxineWaters</td>\n",
              "      <td>@TXRandy14</td>\n",
              "    </tr>\n",
              "    <tr>\n",
              "      <th>208</th>\n",
              "      <td>@RepBonnie</td>\n",
              "      <td>@RepWebster</td>\n",
              "    </tr>\n",
              "    <tr>\n",
              "      <th>209</th>\n",
              "      <td>@RepWexton</td>\n",
              "      <td>@RepBradWenstrup</td>\n",
              "    </tr>\n",
              "    <tr>\n",
              "      <th>210</th>\n",
              "      <td>@RepSusanWild</td>\n",
              "      <td>@RepWesterman</td>\n",
              "    </tr>\n",
              "  </tbody>\n",
              "</table>\n",
              "<p>211 rows × 2 columns</p>\n",
              "</div>"
            ],
            "text/plain": [
              "             Democrat        Republican\n",
              "0           @RepAdams  @Robert_Aderholt\n",
              "1     @RepPeteAguilar    @RepMarkAlford\n",
              "2     @RepColinAllred     @RepRickAllen\n",
              "3     @RepAuchincloss    @MarkAmodeiNV2\n",
              "4          @RepBeccaB   @RepArmstrongND\n",
              "..                ...               ...\n",
              "206     @RepDWStweets    @RepWaltzPress\n",
              "207  @RepMaxineWaters        @TXRandy14\n",
              "208        @RepBonnie       @RepWebster\n",
              "209        @RepWexton  @RepBradWenstrup\n",
              "210     @RepSusanWild     @RepWesterman\n",
              "\n",
              "[211 rows x 2 columns]"
            ]
          },
          "execution_count": 11,
          "metadata": {},
          "output_type": "execute_result"
        }
      ],
      "source": [
        "dtP = pd.read_excel(\"PoliticalFiguresTwitter.xlsx\")\n",
        "dtP"
      ]
    },
    {
      "cell_type": "code",
      "execution_count": 12,
      "metadata": {},
      "outputs": [],
      "source": [
        "# Load the stop words list\n",
        "stop_words = set(stopwords.words('english'))\n",
        "\n",
        "# Define a function to extract words from a text\n",
        "def extract_words(text):\n",
        "    # Tokenize the text into words\n",
        "    words = word_tokenize(text.lower())\n",
        "    # Remove stop words\n",
        "    words = [word for word in words if word not in stop_words]\n",
        "    # Remove non-alphabetic characters\n",
        "    words = [word for word in words if word.isalpha()]\n",
        "    return words"
      ]
    },
    {
      "cell_type": "code",
      "execution_count": 15,
      "metadata": {},
      "outputs": [],
      "source": [
        "def get_tweets(username):\n",
        "    query = \"(from:\" +username + \") until:2023-02-18 since:2010-01-01\"\n",
        "    tweets = []\n",
        "    limit = 10\n",
        "\n",
        "    for tweet in sntwitter.TwitterSearchScraper(query).get_items():\n",
        "        if len(tweets) == limit:\n",
        "            break\n",
        "        else:   \n",
        "            #political or not code         \n",
        "            tweets.append(extract_words(tweet.content))\n",
        "\n",
        "    return tweets"
      ]
    },
    {
      "attachments": {},
      "cell_type": "markdown",
      "metadata": {},
      "source": [
        "<h1>Democrats<h1>"
      ]
    },
    {
      "cell_type": "code",
      "execution_count": 20,
      "metadata": {},
      "outputs": [
        {
          "name": "stderr",
          "output_type": "stream",
          "text": [
            "/var/folders/31/nksw3gt16f56vjt9dl1sgttw0000gn/T/ipykernel_8718/3332591722.py:10: FutureWarning: content is deprecated, use rawContent instead\n",
            "  tweets.append(extract_words(tweet.content))\n"
          ]
        }
      ],
      "source": [
        "democrats = dtP.loc[:,\"Democrat\"]\n",
        "democratTweets = []\n",
        "for democrat in democrats:\n",
        "    democratTweets.append(get_tweets(democrat))"
      ]
    },
    {
      "cell_type": "code",
      "execution_count": 21,
      "metadata": {},
      "outputs": [],
      "source": [
        "democratTweets = functools.reduce(lambda x, y: x+y, democratTweets) #flattenlist"
      ]
    },
    {
      "attachments": {},
      "cell_type": "markdown",
      "metadata": {},
      "source": [
        "<h1>Republicans<h1>"
      ]
    },
    {
      "cell_type": "code",
      "execution_count": 22,
      "metadata": {},
      "outputs": [
        {
          "name": "stderr",
          "output_type": "stream",
          "text": [
            "/var/folders/31/nksw3gt16f56vjt9dl1sgttw0000gn/T/ipykernel_8718/3332591722.py:10: FutureWarning: content is deprecated, use rawContent instead\n",
            "  tweets.append(extract_words(tweet.content))\n"
          ]
        }
      ],
      "source": [
        "republicans = dtP.loc[:,\"Republican\"]\n",
        "republicanTweets = []\n",
        "for republican in republicans:\n",
        "    republicanTweets.append(get_tweets(republican))"
      ]
    },
    {
      "cell_type": "code",
      "execution_count": 23,
      "metadata": {},
      "outputs": [],
      "source": [
        "republicanTweets = functools.reduce(lambda x, y: x+y, republicanTweets) #flattenlist"
      ]
    },
    {
      "attachments": {},
      "cell_type": "markdown",
      "metadata": {},
      "source": [
        "<h1>Combine"
      ]
    },
    {
      "cell_type": "code",
      "execution_count": null,
      "metadata": {},
      "outputs": [],
      "source": [
        "#no need to do this \n",
        "\n",
        "#make sure we have equal amount of tweets for merging\n",
        "# if len(republicanTweets) != len(democratTweets):\n",
        "#     delta = abs(len(republicanTweets) - len(democratTweets))\n",
        "#     if len(republicanTweets) > len(democratTweets):\n",
        "#         republicanTweets = republicanTweets[0:len(republicanTweets) - delta]    \n",
        "#     else:\n",
        "#         democratTweets = democratTweets[0:len(democratTweets) - delta]"
      ]
    },
    {
      "cell_type": "code",
      "execution_count": 24,
      "metadata": {},
      "outputs": [],
      "source": [
        "merge = []\n",
        "for tweet in democratTweets:\n",
        "    for word in tweet:\n",
        "        merge.append([word,0])\n",
        "for tweet in republicanTweets:\n",
        "    for word in tweet:\n",
        "        merge.append([word,1])"
      ]
    },
    {
      "cell_type": "code",
      "execution_count": 25,
      "metadata": {},
      "outputs": [],
      "source": [
        "tweetsDF = pd.DataFrame(merge,columns=['Tweets','Orientation'])"
      ]
    },
    {
      "cell_type": "code",
      "execution_count": 26,
      "metadata": {},
      "outputs": [
        {
          "data": {
            "text/html": [
              "<div>\n",
              "<style scoped>\n",
              "    .dataframe tbody tr th:only-of-type {\n",
              "        vertical-align: middle;\n",
              "    }\n",
              "\n",
              "    .dataframe tbody tr th {\n",
              "        vertical-align: top;\n",
              "    }\n",
              "\n",
              "    .dataframe thead th {\n",
              "        text-align: right;\n",
              "    }\n",
              "</style>\n",
              "<table border=\"1\" class=\"dataframe\">\n",
              "  <thead>\n",
              "    <tr style=\"text-align: right;\">\n",
              "      <th></th>\n",
              "      <th>Tweets</th>\n",
              "      <th>Orientation</th>\n",
              "    </tr>\n",
              "  </thead>\n",
              "  <tbody>\n",
              "    <tr>\n",
              "      <th>0</th>\n",
              "      <td>since</td>\n",
              "      <td>0</td>\n",
              "    </tr>\n",
              "    <tr>\n",
              "      <th>1</th>\n",
              "      <td>mayor</td>\n",
              "      <td>0</td>\n",
              "    </tr>\n",
              "    <tr>\n",
              "      <th>2</th>\n",
              "      <td>vi</td>\n",
              "      <td>0</td>\n",
              "    </tr>\n",
              "    <tr>\n",
              "      <th>3</th>\n",
              "      <td>lyles</td>\n",
              "      <td>0</td>\n",
              "    </tr>\n",
              "    <tr>\n",
              "      <th>4</th>\n",
              "      <td>instrumental</td>\n",
              "      <td>0</td>\n",
              "    </tr>\n",
              "    <tr>\n",
              "      <th>...</th>\n",
              "      <td>...</td>\n",
              "      <td>...</td>\n",
              "    </tr>\n",
              "    <tr>\n",
              "      <th>77422</th>\n",
              "      <td>night</td>\n",
              "      <td>1</td>\n",
              "    </tr>\n",
              "    <tr>\n",
              "      <th>77423</th>\n",
              "      <td>tour</td>\n",
              "      <td>1</td>\n",
              "    </tr>\n",
              "    <tr>\n",
              "      <th>77424</th>\n",
              "      <td>incredible</td>\n",
              "      <td>1</td>\n",
              "    </tr>\n",
              "    <tr>\n",
              "      <th>77425</th>\n",
              "      <td>night</td>\n",
              "      <td>1</td>\n",
              "    </tr>\n",
              "    <tr>\n",
              "      <th>77426</th>\n",
              "      <td>https</td>\n",
              "      <td>1</td>\n",
              "    </tr>\n",
              "  </tbody>\n",
              "</table>\n",
              "<p>77427 rows × 2 columns</p>\n",
              "</div>"
            ],
            "text/plain": [
              "             Tweets  Orientation\n",
              "0             since            0\n",
              "1             mayor            0\n",
              "2                vi            0\n",
              "3             lyles            0\n",
              "4      instrumental            0\n",
              "...             ...          ...\n",
              "77422         night            1\n",
              "77423          tour            1\n",
              "77424    incredible            1\n",
              "77425         night            1\n",
              "77426         https            1\n",
              "\n",
              "[77427 rows x 2 columns]"
            ]
          },
          "execution_count": 26,
          "metadata": {},
          "output_type": "execute_result"
        }
      ],
      "source": [
        "tweetsDF"
      ]
    },
    {
      "cell_type": "code",
      "execution_count": 27,
      "metadata": {},
      "outputs": [],
      "source": [
        "#tweetsDF.to_excel(\"TweetsDataBase.xlsx\")  "
      ]
    }
  ],
  "metadata": {
    "colab": {
      "provenance": []
    },
    "kernelspec": {
      "display_name": "Python 3 (ipykernel)",
      "language": "python",
      "name": "python3"
    },
    "language_info": {
      "codemirror_mode": {
        "name": "ipython",
        "version": 3
      },
      "file_extension": ".py",
      "mimetype": "text/x-python",
      "name": "python",
      "nbconvert_exporter": "python",
      "pygments_lexer": "ipython3",
      "version": "3.9.2"
    },
    "vscode": {
      "interpreter": {
        "hash": "8a5edab282632443219e051e4ade2d1d5bbc671c781051bf1437897cbdfea0f1"
      }
    }
  },
  "nbformat": 4,
  "nbformat_minor": 0
}
