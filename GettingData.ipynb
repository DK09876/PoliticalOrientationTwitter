{
  "cells": [
    {
      "attachments": {},
      "cell_type": "markdown",
      "metadata": {},
      "source": [
        "<h1>Import Statements<h1>"
      ]
    },
    {
      "cell_type": "code",
      "execution_count": null,
      "metadata": {
        "id": "KtcBrKrqmYUL"
      },
      "outputs": [],
      "source": [
        "import tweepy\n",
        "import snscrape.modules.twitter as sntwitter\n",
        "import pandas as pd\n",
        "from nltk.corpus import stopwords\n",
        "import functools \n",
        "import nltk\n",
        "from nltk.tokenize import word_tokenize\n",
        "from nltk.corpus import stopwords\n"
      ]
    },
    {
      "cell_type": "code",
      "execution_count": null,
      "metadata": {},
      "outputs": [],
      "source": [
        "nltk.download('stopwords')\n",
        "nltk.download('punkt')"
      ]
    },
    {
      "cell_type": "code",
      "execution_count": null,
      "metadata": {},
      "outputs": [],
      "source": [
        "dtP = pd.read_excel(\"PoliticalFiguresTwitter.xlsx\")\n",
        "dtP"
      ]
    },
    {
      "cell_type": "code",
      "execution_count": null,
      "metadata": {},
      "outputs": [],
      "source": [
        "# Load the stop words list\n",
        "stop_words = set(stopwords.words('english'))\n",
        "\n",
        "# Define a function to extract words from a text\n",
        "def extract_words(text):\n",
        "    # Tokenize the text into words\n",
        "    words = word_tokenize(text.lower())\n",
        "    # Remove stop words\n",
        "    words = [word for word in words if word not in stop_words]\n",
        "    # Remove non-alphabetic characters\n",
        "    words = [word for word in words if word.isalpha()]\n",
        "    return words"
      ]
    },
    {
      "cell_type": "code",
      "execution_count": null,
      "metadata": {},
      "outputs": [],
      "source": [
        "def get_tweets(username):\n",
        "    query = \"(from:\" +username + \") until:2023-02-18 since:2010-01-01\"\n",
        "    tweets = []\n",
        "    limit = 10\n",
        "\n",
        "    for tweet in sntwitter.TwitterSearchScraper(query).get_items():\n",
        "        if len(tweets) == limit:\n",
        "            break\n",
        "        else:   \n",
        "            #political or not code         \n",
        "            tweets.append(extract_words(tweet.content))\n",
        "\n",
        "    return tweets"
      ]
    },
    {
      "attachments": {},
      "cell_type": "markdown",
      "metadata": {},
      "source": [
        "<h1>Democrats<h1>"
      ]
    },
    {
      "cell_type": "code",
      "execution_count": null,
      "metadata": {},
      "outputs": [],
      "source": [
        "democrats = dtP.loc[:,\"Democrat\"]\n",
        "democratTweets = []\n",
        "for democrat in democrats:\n",
        "    democratTweets.append(get_tweets(democrat))"
      ]
    },
    {
      "cell_type": "code",
      "execution_count": null,
      "metadata": {},
      "outputs": [],
      "source": [
        "democratTweets = functools.reduce(lambda x, y: x+y, democratTweets) #flattenlist"
      ]
    },
    {
      "attachments": {},
      "cell_type": "markdown",
      "metadata": {},
      "source": [
        "<h1>Republicans<h1>"
      ]
    },
    {
      "cell_type": "code",
      "execution_count": null,
      "metadata": {},
      "outputs": [],
      "source": [
        "republicans = dtP.loc[:,\"Republican\"]\n",
        "republicanTweets = []\n",
        "for republican in republicans:\n",
        "    republicanTweets.append(get_tweets(republican))"
      ]
    },
    {
      "cell_type": "code",
      "execution_count": null,
      "metadata": {},
      "outputs": [],
      "source": [
        "republicanTweets = functools.reduce(lambda x, y: x+y, republicanTweets) #flattenlist"
      ]
    },
    {
      "attachments": {},
      "cell_type": "markdown",
      "metadata": {},
      "source": [
        "<h1>Combine"
      ]
    },
    {
      "cell_type": "code",
      "execution_count": null,
      "metadata": {},
      "outputs": [],
      "source": [
        "#no need to do this \n",
        "\n",
        "#make sure we have equal amount of tweets for merging\n",
        "# if len(republicanTweets) != len(democratTweets):\n",
        "#     delta = abs(len(republicanTweets) - len(democratTweets))\n",
        "#     if len(republicanTweets) > len(democratTweets):\n",
        "#         republicanTweets = republicanTweets[0:len(republicanTweets) - delta]    \n",
        "#     else:\n",
        "#         democratTweets = democratTweets[0:len(democratTweets) - delta]"
      ]
    },
    {
      "cell_type": "code",
      "execution_count": null,
      "metadata": {},
      "outputs": [],
      "source": [
        "merge = []\n",
        "for tweet in democratTweets:\n",
        "    for word in tweet:\n",
        "        merge.append([word,0])\n",
        "for tweet in republicanTweets:\n",
        "    for word in tweet:\n",
        "        merge.append([word,1])"
      ]
    },
    {
      "cell_type": "code",
      "execution_count": null,
      "metadata": {},
      "outputs": [],
      "source": [
        "tweetsDF = pd.DataFrame(merge,columns=['Tweets','Orientation'])"
      ]
    },
    {
      "cell_type": "code",
      "execution_count": null,
      "metadata": {},
      "outputs": [],
      "source": [
        "tweetsDF"
      ]
    },
    {
      "cell_type": "code",
      "execution_count": null,
      "metadata": {},
      "outputs": [],
      "source": [
        "#tweetsDF.to_excel(\"TweetsDataBase.xlsx\")  "
      ]
    }
  ],
  "metadata": {
    "colab": {
      "provenance": []
    },
    "kernelspec": {
      "display_name": "Python 3 (ipykernel)",
      "language": "python",
      "name": "python3"
    },
    "language_info": {
      "codemirror_mode": {
        "name": "ipython",
        "version": 3
      },
      "file_extension": ".py",
      "mimetype": "text/x-python",
      "name": "python",
      "nbconvert_exporter": "python",
      "pygments_lexer": "ipython3",
      "version": "3.9.2"
    },
    "vscode": {
      "interpreter": {
        "hash": "8a5edab282632443219e051e4ade2d1d5bbc671c781051bf1437897cbdfea0f1"
      }
    }
  },
  "nbformat": 4,
  "nbformat_minor": 0
}
