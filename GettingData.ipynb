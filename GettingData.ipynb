{
  "cells": [
    {
      "attachments": {},
      "cell_type": "markdown",
      "metadata": {},
      "source": [
        "<h1>Import Statements<h1>"
      ]
    },
    {
      "cell_type": "code",
      "execution_count": 65,
      "metadata": {
        "id": "KtcBrKrqmYUL",
        "vscode": {
          "languageId": "python"
        }
      },
      "outputs": [],
      "source": [
        "import tweepy\n",
        "import snscrape.modules.twitter as sntwitter\n",
        "import pandas as pd\n",
        "from nltk.corpus import stopwords\n",
        "import functools "
      ]
    },
    {
      "cell_type": "code",
      "execution_count": 66,
      "metadata": {
        "vscode": {
          "languageId": "python"
        }
      },
      "outputs": [
        {
          "data": {
            "text/html": [
              "<div>\n",
              "<style scoped>\n",
              "    .dataframe tbody tr th:only-of-type {\n",
              "        vertical-align: middle;\n",
              "    }\n",
              "\n",
              "    .dataframe tbody tr th {\n",
              "        vertical-align: top;\n",
              "    }\n",
              "\n",
              "    .dataframe thead th {\n",
              "        text-align: right;\n",
              "    }\n",
              "</style>\n",
              "<table border=\"1\" class=\"dataframe\">\n",
              "  <thead>\n",
              "    <tr style=\"text-align: right;\">\n",
              "      <th></th>\n",
              "      <th>Democrat</th>\n",
              "      <th>Republican</th>\n",
              "    </tr>\n",
              "  </thead>\n",
              "  <tbody>\n",
              "    <tr>\n",
              "      <th>0</th>\n",
              "      <td>@RepAdams</td>\n",
              "      <td>@Robert_Aderholt</td>\n",
              "    </tr>\n",
              "    <tr>\n",
              "      <th>1</th>\n",
              "      <td>@RepPeteAguilar</td>\n",
              "      <td>@RepMarkAlford</td>\n",
              "    </tr>\n",
              "    <tr>\n",
              "      <th>2</th>\n",
              "      <td>@RepColinAllred</td>\n",
              "      <td>@RepRickAllen</td>\n",
              "    </tr>\n",
              "    <tr>\n",
              "      <th>3</th>\n",
              "      <td>@RepAuchincloss</td>\n",
              "      <td>@MarkAmodeiNV2</td>\n",
              "    </tr>\n",
              "    <tr>\n",
              "      <th>4</th>\n",
              "      <td>@RepBeccaB</td>\n",
              "      <td>@RepArmstrongND</td>\n",
              "    </tr>\n",
              "    <tr>\n",
              "      <th>...</th>\n",
              "      <td>...</td>\n",
              "      <td>...</td>\n",
              "    </tr>\n",
              "    <tr>\n",
              "      <th>206</th>\n",
              "      <td>@RepDWStweets</td>\n",
              "      <td>@RepWaltzPress</td>\n",
              "    </tr>\n",
              "    <tr>\n",
              "      <th>207</th>\n",
              "      <td>@RepMaxineWaters</td>\n",
              "      <td>@TXRandy14</td>\n",
              "    </tr>\n",
              "    <tr>\n",
              "      <th>208</th>\n",
              "      <td>@RepBonnie</td>\n",
              "      <td>@RepWebster</td>\n",
              "    </tr>\n",
              "    <tr>\n",
              "      <th>209</th>\n",
              "      <td>@RepWexton</td>\n",
              "      <td>@RepBradWenstrup</td>\n",
              "    </tr>\n",
              "    <tr>\n",
              "      <th>210</th>\n",
              "      <td>@RepSusanWild</td>\n",
              "      <td>@RepWesterman</td>\n",
              "    </tr>\n",
              "  </tbody>\n",
              "</table>\n",
              "<p>211 rows × 2 columns</p>\n",
              "</div>"
            ],
            "text/plain": [
              "             Democrat        Republican\n",
              "0           @RepAdams  @Robert_Aderholt\n",
              "1     @RepPeteAguilar    @RepMarkAlford\n",
              "2     @RepColinAllred     @RepRickAllen\n",
              "3     @RepAuchincloss    @MarkAmodeiNV2\n",
              "4          @RepBeccaB   @RepArmstrongND\n",
              "..                ...               ...\n",
              "206     @RepDWStweets    @RepWaltzPress\n",
              "207  @RepMaxineWaters        @TXRandy14\n",
              "208        @RepBonnie       @RepWebster\n",
              "209        @RepWexton  @RepBradWenstrup\n",
              "210     @RepSusanWild     @RepWesterman\n",
              "\n",
              "[211 rows x 2 columns]"
            ]
          },
          "execution_count": 66,
          "metadata": {},
          "output_type": "execute_result"
        }
      ],
      "source": [
        "dtP = pd.read_excel(\"PoliticalFiguresTwitter.xlsx\")\n",
        "dtP"
      ]
    },
    {
      "cell_type": "code",
      "execution_count": 67,
      "metadata": {
        "vscode": {
          "languageId": "python"
        }
      },
      "outputs": [],
      "source": [
        "def get_tweets(username):\n",
        "    query = \"(from:\" +username + \") until:2023-02-18 since:2010-01-01\"\n",
        "    tweets = []\n",
        "    limit = 10\n",
        "\n",
        "    for tweet in sntwitter.TwitterSearchScraper(query).get_items():\n",
        "        if len(tweets) == limit:\n",
        "            break\n",
        "        else:\n",
        "            tweets.append(tweet.dfgcontent)\n",
        "\n",
        "    return tweets"
      ]
    },
    {
      "attachments": {},
      "cell_type": "markdown",
      "metadata": {},
      "source": [
        "<h1>Democrats<h1>"
      ]
    },
    {
      "cell_type": "code",
      "execution_count": 68,
      "metadata": {
        "vscode": {
          "languageId": "python"
        }
      },
      "outputs": [
        {
          "name": "stderr",
          "output_type": "stream",
          "text": [
            "/var/folders/31/nksw3gt16f56vjt9dl1sgttw0000gn/T/ipykernel_7603/3623917836.py:10: FutureWarning: content is deprecated, use rawContent instead\n",
            "  tweets.append(tweet.content)\n"
          ]
        }
      ],
      "source": [
        "democrats = dtP.loc[:,\"Democrat\"]\n",
        "democratTweets = []\n",
        "for democrat in democrats:\n",
        "    democratTweets.append(get_tweets(democrat))"
      ]
    },
    {
      "cell_type": "code",
      "execution_count": 69,
      "metadata": {
        "vscode": {
          "languageId": "python"
        }
      },
      "outputs": [],
      "source": [
        "democratTweets = functools.reduce(lambda x, y: x+y, democratTweets) #flattenlist"
      ]
    },
    {
      "attachments": {},
      "cell_type": "markdown",
      "metadata": {},
      "source": [
        "<h1>Republicans<h1>"
      ]
    },
    {
      "cell_type": "code",
      "execution_count": 70,
      "metadata": {
        "vscode": {
          "languageId": "python"
        }
      },
      "outputs": [
        {
          "name": "stderr",
          "output_type": "stream",
          "text": [
            "/var/folders/31/nksw3gt16f56vjt9dl1sgttw0000gn/T/ipykernel_7603/3623917836.py:10: FutureWarning: content is deprecated, use rawContent instead\n",
            "  tweets.append(tweet.content)\n"
          ]
        }
      ],
      "source": [
        "republicans = dtP.loc[:,\"Republican\"]\n",
        "republicanTweets = []\n",
        "for republican in republicans:\n",
        "    republicanTweets.append(get_tweets(republican))"
      ]
    },
    {
      "cell_type": "code",
      "execution_count": 71,
      "metadata": {
        "vscode": {
          "languageId": "python"
        }
      },
      "outputs": [],
      "source": [
        "republicanTweets = functools.reduce(lambda x, y: x+y, republicanTweets) #flattenlist"
      ]
    },
    {
      "attachments": {},
      "cell_type": "markdown",
      "metadata": {},
      "source": [
        "<h1>Combine"
      ]
    },
    {
      "cell_type": "code",
      "execution_count": 80,
      "metadata": {
        "vscode": {
          "languageId": "python"
        }
      },
      "outputs": [],
      "source": [
        "#no need to do this \n",
        "\n",
        "#make sure we have equal amount of tweets for merging\n",
        "# if len(republicanTweets) != len(democratTweets):\n",
        "#     delta = abs(len(republicanTweets) - len(democratTweets))\n",
        "#     if len(republicanTweets) > len(democratTweets):\n",
        "#         republicanTweets = republicanTweets[0:len(republicanTweets) - delta]    \n",
        "#     else:\n",
        "#         democratTweets = democratTweets[0:len(democratTweets) - delta]"
      ]
    },
    {
      "cell_type": "code",
      "execution_count": 93,
      "metadata": {
        "vscode": {
          "languageId": "python"
        }
      },
      "outputs": [],
      "source": [
        "merge = []\n",
        "for tweet in democratTweets:\n",
        "    merge.append([tweet,0])\n",
        "for tweet in republicanTweets:\n",
        "    merge.append([tweet,1])"
      ]
    },
    {
      "cell_type": "code",
      "execution_count": 97,
      "metadata": {
        "vscode": {
          "languageId": "python"
        }
      },
      "outputs": [],
      "source": [
        "tweetsDF = pd.DataFrame(merge,columns=['Tweets','Orientation'])"
      ]
    },
    {
      "cell_type": "code",
      "execution_count": 98,
      "metadata": {
        "vscode": {
          "languageId": "python"
        }
      },
      "outputs": [
        {
          "data": {
            "text/html": [
              "<div>\n",
              "<style scoped>\n",
              "    .dataframe tbody tr th:only-of-type {\n",
              "        vertical-align: middle;\n",
              "    }\n",
              "\n",
              "    .dataframe tbody tr th {\n",
              "        vertical-align: top;\n",
              "    }\n",
              "\n",
              "    .dataframe thead th {\n",
              "        text-align: right;\n",
              "    }\n",
              "</style>\n",
              "<table border=\"1\" class=\"dataframe\">\n",
              "  <thead>\n",
              "    <tr style=\"text-align: right;\">\n",
              "      <th></th>\n",
              "      <th>Tweets</th>\n",
              "      <th>Orientation</th>\n",
              "    </tr>\n",
              "  </thead>\n",
              "  <tbody>\n",
              "    <tr>\n",
              "      <th>0</th>\n",
              "      <td>Since then, Mayor Vi Lyles has been instrument...</td>\n",
              "      <td>0</td>\n",
              "    </tr>\n",
              "    <tr>\n",
              "      <th>1</th>\n",
              "      <td>Vi was first elected as an at large member of ...</td>\n",
              "      <td>0</td>\n",
              "    </tr>\n",
              "    <tr>\n",
              "      <th>2</th>\n",
              "      <td>Vi Lyles was born in Columbia, South Carolina ...</td>\n",
              "      <td>0</td>\n",
              "    </tr>\n",
              "    <tr>\n",
              "      <th>3</th>\n",
              "      <td>#BlackHistoryMonth fact: Mary attended Barber ...</td>\n",
              "      <td>0</td>\n",
              "    </tr>\n",
              "    <tr>\n",
              "      <th>4</th>\n",
              "      <td>@michelle_other @CLTMayor @ViLyles @JeffJackso...</td>\n",
              "      <td>0</td>\n",
              "    </tr>\n",
              "    <tr>\n",
              "      <th>...</th>\n",
              "      <td>...</td>\n",
              "      <td>...</td>\n",
              "    </tr>\n",
              "    <tr>\n",
              "      <th>4181</th>\n",
              "      <td>My statement regarding the ongoing situation i...</td>\n",
              "      <td>1</td>\n",
              "    </tr>\n",
              "    <tr>\n",
              "      <th>4182</th>\n",
              "      <td>This new facility will bring 80 new high-wage ...</td>\n",
              "      <td>1</td>\n",
              "    </tr>\n",
              "    <tr>\n",
              "      <th>4183</th>\n",
              "      <td>The new @PureCycleTech facility in Ironton wil...</td>\n",
              "      <td>1</td>\n",
              "    </tr>\n",
              "    <tr>\n",
              "      <th>4184</th>\n",
              "      <td>Read more here: https://t.co/zDyBExzfL0</td>\n",
              "      <td>1</td>\n",
              "    </tr>\n",
              "    <tr>\n",
              "      <th>4185</th>\n",
              "      <td>The American people deserve answers. https://t...</td>\n",
              "      <td>1</td>\n",
              "    </tr>\n",
              "  </tbody>\n",
              "</table>\n",
              "<p>4186 rows × 2 columns</p>\n",
              "</div>"
            ],
            "text/plain": [
              "                                                 Tweets  Orientation\n",
              "0     Since then, Mayor Vi Lyles has been instrument...            0\n",
              "1     Vi was first elected as an at large member of ...            0\n",
              "2     Vi Lyles was born in Columbia, South Carolina ...            0\n",
              "3     #BlackHistoryMonth fact: Mary attended Barber ...            0\n",
              "4     @michelle_other @CLTMayor @ViLyles @JeffJackso...            0\n",
              "...                                                 ...          ...\n",
              "4181  My statement regarding the ongoing situation i...            1\n",
              "4182  This new facility will bring 80 new high-wage ...            1\n",
              "4183  The new @PureCycleTech facility in Ironton wil...            1\n",
              "4184            Read more here: https://t.co/zDyBExzfL0            1\n",
              "4185  The American people deserve answers. https://t...            1\n",
              "\n",
              "[4186 rows x 2 columns]"
            ]
          },
          "execution_count": 98,
          "metadata": {},
          "output_type": "execute_result"
        }
      ],
      "source": [
        "tweetsDF"
      ]
    },
    {
      "cell_type": "code",
      "execution_count": 99,
      "metadata": {
        "vscode": {
          "languageId": "python"
        }
      },
      "outputs": [],
      "source": [
        "tweetsDF.to_excel(\"TweetsDataBase.xlsx\")  "
      ]
    }
  ],
  "metadata": {
    "colab": {
      "provenance": []
    },
    "kernelspec": {
      "display_name": "Python 3 (ipykernel)",
      "language": "python",
      "name": "python3"
    },
    "vscode": {
      "interpreter": {
        "hash": "8a5edab282632443219e051e4ade2d1d5bbc671c781051bf1437897cbdfea0f1"
      }
    }
  },
  "nbformat": 4,
  "nbformat_minor": 0
}
