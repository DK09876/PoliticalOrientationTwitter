{
 "cells": [
  {
   "attachments": {},
   "cell_type": "markdown",
   "metadata": {},
   "source": [
    "<h1>Get Models Ready"
   ]
  },
  {
   "cell_type": "code",
   "execution_count": 1,
   "metadata": {},
   "outputs": [],
   "source": [
    "%run Classifier.ipynb"
   ]
  },
  {
   "attachments": {},
   "cell_type": "markdown",
   "metadata": {},
   "source": [
    "<h1>Input"
   ]
  },
  {
   "cell_type": "code",
   "execution_count": 2,
   "metadata": {},
   "outputs": [],
   "source": [
    "import tweepy\n",
    "import snscrape.modules.twitter as sntwitter\n",
    "import pandas as pd\n",
    "from nltk.corpus import stopwords\n",
    "import functools \n",
    "import nltk\n",
    "from nltk.tokenize import word_tokenize\n",
    "from nltk.corpus import stopwords"
   ]
  },
  {
   "cell_type": "code",
   "execution_count": null,
   "metadata": {},
   "outputs": [],
   "source": [
    "nltk.download('stopwords')\n",
    "nltk.download('punkt')"
   ]
  },
  {
   "cell_type": "code",
   "execution_count": 5,
   "metadata": {},
   "outputs": [],
   "source": [
    "# Load the stop words list\n",
    "stop_words = set(stopwords.words('english'))\n",
    "\n",
    "# Define a function to extract words from a text\n",
    "def extract_words(text):\n",
    "    # Tokenize the text into words\n",
    "    words = word_tokenize(text.lower())\n",
    "    # Remove stop words\n",
    "    words = [word for word in words if word not in stop_words]\n",
    "    # Remove non-alphabetic characters\n",
    "    words = [word for word in words if word.isalpha()]\n",
    "    return words"
   ]
  },
  {
   "cell_type": "code",
   "execution_count": 51,
   "metadata": {},
   "outputs": [],
   "source": [
    "def get_tweets(username):\n",
    "    query = \"(from:\" +username + \") until:2023-02-18 since:2010-01-01\"\n",
    "    tweets = []\n",
    "    limit = 10\n",
    "\n",
    "    for tweet in sntwitter.TwitterSearchScraper(query).get_items():\n",
    "        if len(tweets) == limit:\n",
    "            break\n",
    "        else:\n",
    "           #political or not code\n",
    "           tweets.append(extract_words(tweet.content))\n",
    "    \n",
    "    return tweets"
   ]
  },
  {
   "cell_type": "code",
   "execution_count": 52,
   "metadata": {},
   "outputs": [
    {
     "name": "stderr",
     "output_type": "stream",
     "text": [
      "C:\\Users\\diksh\\AppData\\Local\\Temp\\ipykernel_5556\\2715066102.py:11: FutureWarning: content is deprecated, use rawContent instead\n",
      "  tweets.append(extract_words(tweet.content))\n"
     ]
    }
   ],
   "source": [
    "username = input(\"Enter Twitter user\")\n",
    "tweets = get_tweets(username)"
   ]
  },
  {
   "cell_type": "code",
   "execution_count": 54,
   "metadata": {},
   "outputs": [],
   "source": [
    "userWords = []\n",
    "for index,tweet in enumerate(tweets):\n",
    "    for index2,word in enumerate(tweet):\n",
    "        if word in wordbank:\n",
    "            userWords.append(word)\n",
    "            \n",
    "\n",
    "userWordsDF = pd.DataFrame(userWords,columns = ['Tweets'])\n",
    "userWordsEncoded = le.transform(userWordsDF[\"Tweets\"])\n",
    "userWordsEncodedDF = pd.DataFrame(userWordsEncoded,columns=['Tweets'])"
   ]
  },
  {
   "cell_type": "code",
   "execution_count": 55,
   "metadata": {},
   "outputs": [],
   "source": [
    "DecisionTreePred = stTreeEntropy.predict(userWordsEncodedDF)"
   ]
  },
  {
   "cell_type": "code",
   "execution_count": 56,
   "metadata": {},
   "outputs": [
    {
     "data": {
      "text/plain": [
       "array([1, 0, 0, 0, 0, 0, 0, 0, 0, 1, 1, 0, 0, 1, 0, 0, 0, 0, 0, 1, 0, 0,\n",
       "       0, 1, 0, 0, 1, 0, 0, 0, 1, 1, 0, 1, 1, 1, 0, 0, 1, 1, 0, 1, 0, 0,\n",
       "       0, 1, 1, 0, 0, 0, 1, 1, 1, 0, 1, 0, 1, 1, 0, 1, 0, 0, 0, 0, 1, 1,\n",
       "       1, 0, 0, 0, 0, 0, 0, 1, 1], dtype=int64)"
      ]
     },
     "execution_count": 56,
     "metadata": {},
     "output_type": "execute_result"
    }
   ],
   "source": [
    "DecisionTreePred"
   ]
  },
  {
   "cell_type": "code",
   "execution_count": null,
   "metadata": {},
   "outputs": [],
   "source": [
    "Democrat = 0\n",
    "Republican = 0\n",
    "\n",
    "for item in predict:\n",
    "    if item == 0:\n",
    "        Democrat +=1 \n",
    "    else:\n",
    "        Republican +=1"
   ]
  },
  {
   "attachments": {},
   "cell_type": "markdown",
   "metadata": {},
   "source": [
    "<h1>Output"
   ]
  },
  {
   "cell_type": "code",
   "execution_count": null,
   "metadata": {},
   "outputs": [],
   "source": [
    "Result = (Democrat - Republican)/(Democrat + Republican)\n",
    "\n",
    "print (\"The final result is\",int(Result))"
   ]
  }
 ],
 "metadata": {
  "kernelspec": {
   "display_name": "Python 3 (ipykernel)",
   "language": "python",
   "name": "python3"
  },
  "language_info": {
   "codemirror_mode": {
    "name": "ipython",
    "version": 3
   },
   "file_extension": ".py",
   "mimetype": "text/x-python",
   "name": "python",
   "nbconvert_exporter": "python",
   "pygments_lexer": "ipython3",
   "version": "3.9.2"
  },
  "orig_nbformat": 4
 },
 "nbformat": 4,
 "nbformat_minor": 2
}
