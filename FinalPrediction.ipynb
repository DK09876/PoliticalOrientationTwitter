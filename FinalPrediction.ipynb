{
 "cells": [
  {
   "attachments": {},
   "cell_type": "markdown",
   "metadata": {},
   "source": [
    "<h1>Get Models Ready"
   ]
  },
  {
   "cell_type": "code",
   "execution_count": 1,
   "metadata": {},
   "outputs": [
    {
     "name": "stderr",
     "output_type": "stream",
     "text": [
      "c:\\Users\\diksh\\AppData\\Local\\Programs\\Python\\Python39\\lib\\site-packages\\sklearn\\neighbors\\_classification.py:215: DataConversionWarning: A column-vector y was passed when a 1d array was expected. Please change the shape of y to (n_samples,), for example using ravel().\n",
      "  return self._fit(X, y)\n",
      "c:\\Users\\diksh\\AppData\\Local\\Programs\\Python\\Python39\\lib\\site-packages\\sklearn\\utils\\validation.py:1143: DataConversionWarning: A column-vector y was passed when a 1d array was expected. Please change the shape of y to (n_samples, ), for example using ravel().\n",
      "  y = column_or_1d(y, warn=True)\n"
     ]
    }
   ],
   "source": [
    "%run Classifier.ipynb"
   ]
  },
  {
   "attachments": {},
   "cell_type": "markdown",
   "metadata": {},
   "source": [
    "<h1>Input"
   ]
  },
  {
   "cell_type": "code",
   "execution_count": 2,
   "metadata": {},
   "outputs": [],
   "source": [
    "import tweepy\n",
    "import snscrape.modules.twitter as sntwitter\n",
    "import pandas as pd\n",
    "from nltk.corpus import stopwords\n",
    "import functools \n",
    "import nltk\n",
    "from nltk.tokenize import word_tokenize\n",
    "from nltk.corpus import stopwords"
   ]
  },
  {
   "cell_type": "code",
   "execution_count": 3,
   "metadata": {},
   "outputs": [
    {
     "name": "stderr",
     "output_type": "stream",
     "text": [
      "[nltk_data] Downloading package stopwords to\n",
      "[nltk_data]     C:\\Users\\diksh\\AppData\\Roaming\\nltk_data...\n",
      "[nltk_data]   Package stopwords is already up-to-date!\n",
      "[nltk_data] Downloading package punkt to\n",
      "[nltk_data]     C:\\Users\\diksh\\AppData\\Roaming\\nltk_data...\n",
      "[nltk_data]   Package punkt is already up-to-date!\n"
     ]
    },
    {
     "data": {
      "text/plain": [
       "True"
      ]
     },
     "execution_count": 3,
     "metadata": {},
     "output_type": "execute_result"
    }
   ],
   "source": [
    "nltk.download('stopwords')\n",
    "nltk.download('punkt')"
   ]
  },
  {
   "cell_type": "code",
   "execution_count": 4,
   "metadata": {},
   "outputs": [],
   "source": [
    "# Load the stop words list\n",
    "stop_words = set(stopwords.words('english'))\n",
    "\n",
    "# Define a function to extract words from a text\n",
    "def extract_words(text):\n",
    "    # Tokenize the text into words\n",
    "    words = word_tokenize(text.lower())\n",
    "    # Remove stop words\n",
    "    words = [word for word in words if word not in stop_words]\n",
    "    # Remove non-alphabetic characters\n",
    "    words = [word for word in words if word.isalpha()]\n",
    "    return words"
   ]
  },
  {
   "cell_type": "code",
   "execution_count": 5,
   "metadata": {},
   "outputs": [],
   "source": [
    "def get_tweets(username):\n",
    "    query = \"(from:\" +username + \") until:2023-02-18 since:2010-01-01\"\n",
    "    tweets = []\n",
    "    limit = 1000\n",
    "\n",
    "    for tweet in sntwitter.TwitterSearchScraper(query).get_items():\n",
    "        if len(tweets) == limit:\n",
    "            break\n",
    "        else:\n",
    "           #political or not code\n",
    "           tweets.append(extract_words(tweet.content))\n",
    "    \n",
    "    return tweets"
   ]
  },
  {
   "cell_type": "code",
   "execution_count": 6,
   "metadata": {},
   "outputs": [
    {
     "name": "stderr",
     "output_type": "stream",
     "text": [
      "C:\\Users\\diksh\\AppData\\Local\\Temp\\ipykernel_3992\\1927189367.py:11: FutureWarning: content is deprecated, use rawContent instead\n",
      "  tweets.append(extract_words(tweet.content))\n"
     ]
    }
   ],
   "source": [
    "username = input(\"Enter Twitter user\")\n",
    "tweets = get_tweets(username)"
   ]
  },
  {
   "cell_type": "code",
   "execution_count": 7,
   "metadata": {},
   "outputs": [],
   "source": [
    "userWords = []\n",
    "for index,tweet in enumerate(tweets):\n",
    "    for index2,word in enumerate(tweet):\n",
    "        if word in wordbank:\n",
    "            userWords.append(word)\n",
    "            \n",
    "\n",
    "userWordsDF = pd.DataFrame(userWords,columns = ['Tweets'])\n",
    "userWordsEncoded = le.transform(userWordsDF[\"Tweets\"])\n",
    "userWordsEncodedDF = pd.DataFrame(userWordsEncoded,columns=['Tweets'])"
   ]
  },
  {
   "attachments": {},
   "cell_type": "markdown",
   "metadata": {},
   "source": [
    "<h1>Decision Tree\n"
   ]
  },
  {
   "cell_type": "code",
   "execution_count": 8,
   "metadata": {},
   "outputs": [],
   "source": [
    "DecisionTreePred = stTreeEntropy.predict(userWordsEncodedDF)"
   ]
  },
  {
   "cell_type": "code",
   "execution_count": 9,
   "metadata": {},
   "outputs": [
    {
     "data": {
      "text/plain": [
       "array([0, 1, 1, ..., 1, 0, 0], dtype=int64)"
      ]
     },
     "execution_count": 9,
     "metadata": {},
     "output_type": "execute_result"
    }
   ],
   "source": [
    "DecisionTreePred"
   ]
  },
  {
   "cell_type": "code",
   "execution_count": 12,
   "metadata": {},
   "outputs": [],
   "source": [
    "import matplotlib.pyplot as plt\n",
    "from collections import Counter"
   ]
  },
  {
   "cell_type": "code",
   "execution_count": 13,
   "metadata": {},
   "outputs": [
    {
     "data": {
      "image/png": "[encoded data removed]",
      "text/plain": [
       "<Figure size 432x288 with 1 Axes>"
      ]
     },
     "metadata": {
      "needs_background": "light"
     },
     "output_type": "display_data"
    }
   ],
   "source": [
    "c_DT = Counter(DecisionTreePred)\n",
    "\n",
    "plt.bar(c_DT.keys(), c_DT.values())\n",
    "plt.show()"
   ]
  },
  {
   "cell_type": "code",
   "execution_count": 14,
   "metadata": {},
   "outputs": [
    {
     "data": {
      "text/plain": [
       "array([[0.56994819, 0.43005181],\n",
       "       [0.3076121 , 0.6923879 ],\n",
       "       [0.39285714, 0.60714286],\n",
       "       ...,\n",
       "       [0.45714286, 0.54285714],\n",
       "       [0.67079208, 0.32920792],\n",
       "       [0.808     , 0.192     ]])"
      ]
     },
     "execution_count": 14,
     "metadata": {},
     "output_type": "execute_result"
    }
   ],
   "source": [
    "prob_DT = stTreeEntropy.predict_proba(userWordsEncodedDF)\n",
    "prob_DT"
   ]
  },
  {
   "cell_type": "code",
   "execution_count": 15,
   "metadata": {},
   "outputs": [],
   "source": [
    "sum_prob_DT = 0\n",
    "for i in range(len(DecisionTreePred)):\n",
    "  a = DecisionTreePred[i]\n",
    "  sum_prob_DT = sum_prob_DT + prob_DT[i][a]\n",
    "prob_DT_final = sum_prob_DT/len(DecisionTreePred)"
   ]
  },
  {
   "cell_type": "code",
   "execution_count": 16,
   "metadata": {},
   "outputs": [
    {
     "data": {
      "text/plain": [
       "0.6377793519058107"
      ]
     },
     "execution_count": 16,
     "metadata": {},
     "output_type": "execute_result"
    }
   ],
   "source": [
    "prob_DT_final"
   ]
  },
  {
   "cell_type": "code",
   "execution_count": 17,
   "metadata": {},
   "outputs": [
    {
     "name": "stdout",
     "output_type": "stream",
     "text": [
      " Estimated probability using Decision Tree is 64%.\n",
      "\n"
     ]
    }
   ],
   "source": [
    "print( \" Estimated probability using Decision Tree is \",round(prob_DT_final*100),\"%.\\n\", sep=\"\" )"
   ]
  },
  {
   "cell_type": "code",
   "execution_count": 18,
   "metadata": {},
   "outputs": [],
   "source": [
    "from sklearn import metrics #Import scikit-learn metrics module for accuracy calculation"
   ]
  },
  {
   "cell_type": "code",
   "execution_count": 19,
   "metadata": {},
   "outputs": [],
   "source": [
    "y_pred_DT = stTreeEntropy.predict(Features_test)"
   ]
  },
  {
   "cell_type": "code",
   "execution_count": 20,
   "metadata": {},
   "outputs": [
    {
     "name": "stdout",
     "output_type": "stream",
     "text": [
      "Accuracy: 0.623101120147307\n"
     ]
    }
   ],
   "source": [
    "# Accuracy of Decision Tree\n",
    "print(\"Accuracy:\",metrics.accuracy_score(Target_test, y_pred_DT))"
   ]
  },
  {
   "cell_type": "code",
   "execution_count": 21,
   "metadata": {},
   "outputs": [
    {
     "data": {
      "text/plain": [
       "array([0, 1, 1, ..., 1, 0, 0], dtype=int64)"
      ]
     },
     "execution_count": 21,
     "metadata": {},
     "output_type": "execute_result"
    }
   ],
   "source": [
    "DecisionTreePred"
   ]
  },
  {
   "cell_type": "code",
   "execution_count": 22,
   "metadata": {},
   "outputs": [],
   "source": [
    "Democrat_DT = 0\n",
    "Republican_DT = 0\n",
    "\n",
    "for item in DecisionTreePred:\n",
    "    if item == 0:\n",
    "        Democrat_DT +=1 \n",
    "    else:\n",
    "        Republican_DT +=1"
   ]
  },
  {
   "cell_type": "code",
   "execution_count": 23,
   "metadata": {},
   "outputs": [
    {
     "name": "stdout",
     "output_type": "stream",
     "text": [
      "The final result is 3.9605426861780915\n"
     ]
    }
   ],
   "source": [
    "Result_DT = (Democrat_DT - Republican_DT)/(Democrat_DT + Republican_DT)\n",
    "\n",
    "print (\"The final result is\",(Result_DT)*10)"
   ]
  },
  {
   "attachments": {},
   "cell_type": "markdown",
   "metadata": {},
   "source": [
    "<h1> Naive Bayes"
   ]
  },
  {
   "cell_type": "code",
   "execution_count": 24,
   "metadata": {},
   "outputs": [],
   "source": [
    "# naiveMethodPred = naiveMethod.predict(userWordsEncodedDF)"
   ]
  },
  {
   "cell_type": "code",
   "execution_count": 25,
   "metadata": {},
   "outputs": [],
   "source": [
    "# naiveMethodPred"
   ]
  },
  {
   "cell_type": "code",
   "execution_count": 26,
   "metadata": {},
   "outputs": [],
   "source": [
    "# Democrat = 0\n",
    "# Republican = 0\n",
    "\n",
    "# for item in naiveMethodPred:\n",
    "#     if item == 0:\n",
    "#         Democrat +=1 \n",
    "#     else:\n",
    "#         Republican +=1"
   ]
  },
  {
   "cell_type": "code",
   "execution_count": 27,
   "metadata": {},
   "outputs": [],
   "source": [
    "# Result = (Democrat - Republican)/(Democrat + Republican)\n",
    "\n",
    "# print (\"The final result is\",(Result)*10)"
   ]
  },
  {
   "attachments": {},
   "cell_type": "markdown",
   "metadata": {},
   "source": [
    "<h1>K Nearest Neighbors"
   ]
  },
  {
   "cell_type": "code",
   "execution_count": 28,
   "metadata": {},
   "outputs": [],
   "source": [
    "knnMethodPred = knnMethod.predict(userWordsEncodedDF)"
   ]
  },
  {
   "cell_type": "code",
   "execution_count": 29,
   "metadata": {},
   "outputs": [
    {
     "data": {
      "text/plain": [
       "array([0, 1, 1, ..., 0, 0, 0], dtype=int64)"
      ]
     },
     "execution_count": 29,
     "metadata": {},
     "output_type": "execute_result"
    }
   ],
   "source": [
    "knnMethodPred"
   ]
  },
  {
   "cell_type": "code",
   "execution_count": 30,
   "metadata": {},
   "outputs": [
    {
     "data": {
      "image/png": "[encoded data removed]",
      "text/plain": [
       "<Figure size 432x288 with 1 Axes>"
      ]
     },
     "metadata": {
      "needs_background": "light"
     },
     "output_type": "display_data"
    }
   ],
   "source": [
    "c_knn = Counter(knnMethodPred)\n",
    "\n",
    "plt.bar(c_knn.keys(), c_knn.values())\n",
    "plt.show()"
   ]
  },
  {
   "cell_type": "code",
   "execution_count": 31,
   "metadata": {},
   "outputs": [
    {
     "data": {
      "text/plain": [
       "array([[0.56435644, 0.43564356],\n",
       "       [0.2970297 , 0.7029703 ],\n",
       "       [0.38613861, 0.61386139],\n",
       "       ...,\n",
       "       [0.61386139, 0.38613861],\n",
       "       [0.67326733, 0.32673267],\n",
       "       [0.84158416, 0.15841584]])"
      ]
     },
     "execution_count": 31,
     "metadata": {},
     "output_type": "execute_result"
    }
   ],
   "source": [
    "prob_kNN = knnMethod.predict_proba(userWordsEncodedDF)\n",
    "prob_kNN"
   ]
  },
  {
   "cell_type": "code",
   "execution_count": 32,
   "metadata": {},
   "outputs": [],
   "source": [
    "sum_prob_kNN = 0\n",
    "for i in range(len(knnMethodPred)):\n",
    "  a = knnMethodPred[i]\n",
    "  sum_prob_kNN = sum_prob_kNN + prob_kNN[i][a]\n",
    "prob_kNN_final = sum_prob_kNN/len(knnMethodPred)"
   ]
  },
  {
   "cell_type": "code",
   "execution_count": 33,
   "metadata": {},
   "outputs": [
    {
     "name": "stdout",
     "output_type": "stream",
     "text": [
      " Estimated probability using kNN is 62%.\n",
      "\n"
     ]
    }
   ],
   "source": [
    "print( \" Estimated probability using kNN is \",round(prob_kNN_final*100),\"%.\\n\", sep=\"\" )"
   ]
  },
  {
   "cell_type": "code",
   "execution_count": 34,
   "metadata": {},
   "outputs": [
    {
     "name": "stdout",
     "output_type": "stream",
     "text": [
      "Accuracy of K-NN classifier on training set: 0.61\n",
      "Accuracy of K-NN classifier on test set: 0.60\n"
     ]
    }
   ],
   "source": [
    "#Checking performance on the training set\n",
    "print('Accuracy of K-NN classifier on training set: {:.2f}'\n",
    "     .format(knnMethod.score(Features_train, Target_train)))\n",
    "#Checking performance on the test set\n",
    "print('Accuracy of K-NN classifier on test set: {:.2f}'\n",
    "     .format(knnMethod.score(Features_test, Target_test)))"
   ]
  },
  {
   "cell_type": "code",
   "execution_count": 35,
   "metadata": {},
   "outputs": [],
   "source": [
    "Democrat_KP = 0\n",
    "Republican_KP = 0\n",
    "\n",
    "for item in knnMethodPred:\n",
    "    if item == 0:\n",
    "        Democrat_KP +=1 \n",
    "    else:\n",
    "        Republican_KP +=1"
   ]
  },
  {
   "cell_type": "code",
   "execution_count": 36,
   "metadata": {},
   "outputs": [
    {
     "name": "stdout",
     "output_type": "stream",
     "text": [
      "The final result is 3.8870786184015644\n"
     ]
    }
   ],
   "source": [
    "Result_KP = (Democrat_KP - Republican_KP)/(Democrat_KP + Republican_KP)\n",
    "\n",
    "print (\"The final result is\",(Result_KP)*10)"
   ]
  },
  {
   "attachments": {},
   "cell_type": "markdown",
   "metadata": {},
   "source": [
    "<h1> AdaBoost (with DecisionTree)"
   ]
  },
  {
   "cell_type": "code",
   "execution_count": 37,
   "metadata": {},
   "outputs": [],
   "source": [
    "adaMethodPred = abc2.predict(userWordsEncodedDF)"
   ]
  },
  {
   "cell_type": "code",
   "execution_count": 38,
   "metadata": {},
   "outputs": [
    {
     "data": {
      "text/plain": [
       "array([0, 1, 1, ..., 0, 0, 0], dtype=int64)"
      ]
     },
     "execution_count": 38,
     "metadata": {},
     "output_type": "execute_result"
    }
   ],
   "source": [
    "adaMethodPred"
   ]
  },
  {
   "cell_type": "code",
   "execution_count": 39,
   "metadata": {},
   "outputs": [
    {
     "data": {
      "image/png": "[encoded data removed]",
      "text/plain": [
       "<Figure size 432x288 with 1 Axes>"
      ]
     },
     "metadata": {
      "needs_background": "light"
     },
     "output_type": "display_data"
    }
   ],
   "source": [
    "c_ada = Counter(adaMethodPred)\n",
    "\n",
    "plt.bar(c_ada.keys(), c_ada.values())\n",
    "plt.show()"
   ]
  },
  {
   "cell_type": "code",
   "execution_count": 40,
   "metadata": {},
   "outputs": [
    {
     "data": {
      "text/plain": [
       "array([[0.50070037, 0.49929963],\n",
       "       [0.49775165, 0.50224835],\n",
       "       [0.49877283, 0.50122717],\n",
       "       ...,\n",
       "       [0.50112845, 0.49887155],\n",
       "       [0.50146511, 0.49853489],\n",
       "       [0.50355943, 0.49644057]])"
      ]
     },
     "execution_count": 40,
     "metadata": {},
     "output_type": "execute_result"
    }
   ],
   "source": [
    "prob_ada = abc2.predict_proba(userWordsEncodedDF)\n",
    "prob_ada"
   ]
  },
  {
   "cell_type": "code",
   "execution_count": 41,
   "metadata": {},
   "outputs": [],
   "source": [
    "sum_prob_ada = 0\n",
    "for i in range(len(adaMethodPred)):\n",
    "  a = adaMethodPred[i]\n",
    "  sum_prob_ada = sum_prob_ada + prob_ada[i][a]\n",
    "prob_ada_final = sum_prob_ada/len(adaMethodPred)"
   ]
  },
  {
   "cell_type": "code",
   "execution_count": 42,
   "metadata": {},
   "outputs": [
    {
     "name": "stdout",
     "output_type": "stream",
     "text": [
      " Estimated probability using AdaBoost is 50%.\n",
      "\n"
     ]
    }
   ],
   "source": [
    "print( \" Estimated probability using AdaBoost is \",round(prob_ada_final*100),\"%.\\n\", sep=\"\" )"
   ]
  },
  {
   "cell_type": "code",
   "execution_count": 43,
   "metadata": {},
   "outputs": [],
   "source": [
    "from sklearn.metrics import confusion_matrix, accuracy_score"
   ]
  },
  {
   "cell_type": "code",
   "execution_count": 44,
   "metadata": {},
   "outputs": [
    {
     "name": "stdout",
     "output_type": "stream",
     "text": [
      "\n",
      "\n",
      "[[70553 25317]\n",
      " [47423 39183]]\n",
      "\n",
      "\n",
      "0.6013722352528552\n"
     ]
    }
   ],
   "source": [
    "#Accuracy\n",
    "y_pred_ada = abc2.predict(Features_test)\n",
    "\n",
    "print(\"\\n\")\n",
    "conMat = confusion_matrix(Target_test, y_pred_ada)\n",
    "print(conMat)\n",
    "print(\"\\n\")\n",
    "\n",
    "print( accuracy_score(Target_test, y_pred_ada) )"
   ]
  },
  {
   "cell_type": "code",
   "execution_count": 45,
   "metadata": {},
   "outputs": [],
   "source": [
    "Democrat_AP = 0\n",
    "Republican_AP = 0\n",
    "\n",
    "for item in adaMethodPred:\n",
    "    if item == 0:\n",
    "        Democrat_AP +=1 \n",
    "    else:\n",
    "        Republican_AP +=1"
   ]
  },
  {
   "cell_type": "code",
   "execution_count": 46,
   "metadata": {},
   "outputs": [
    {
     "name": "stdout",
     "output_type": "stream",
     "text": [
      "The final result is 4.630013626399668\n"
     ]
    }
   ],
   "source": [
    "Result_AP = (Democrat_AP - Republican_AP)/(Democrat_AP + Republican_AP)\n",
    "\n",
    "print (\"The final result is\",(Result_AP)*10)"
   ]
  },
  {
   "attachments": {},
   "cell_type": "markdown",
   "metadata": {},
   "source": [
    "<h1> Neural Network"
   ]
  },
  {
   "cell_type": "code",
   "execution_count": 47,
   "metadata": {},
   "outputs": [],
   "source": [
    "#annMethodPred = classifier.predict(userWordsEncodedDF)"
   ]
  },
  {
   "cell_type": "code",
   "execution_count": 48,
   "metadata": {},
   "outputs": [],
   "source": [
    "#annMethodPred"
   ]
  },
  {
   "cell_type": "code",
   "execution_count": 49,
   "metadata": {},
   "outputs": [],
   "source": [
    "# array_result = []\n",
    "# for i in range(len(annMethodPred)):\n",
    "#   if annMethodPred[i][0] >= 0.5:\n",
    "#     array_result.append(1)\n",
    "#   else:\n",
    "#     array_result.append(0)\n",
    "# Democrat_Neural = 0\n",
    "# Republican_Neural = 0\n",
    "\n",
    "\n",
    "# for item in array_result:\n",
    "#     if item == 0:\n",
    "#         Democrat_Neural +=1 \n",
    "#     else:\n",
    "#         Republican_Neural +=1\n",
    "# Result_Neural = (Democrat_Neural - Republican_Neural)/(Democrat_Neural + Republican_Neural)\n",
    "# print (\"The final result is\",(Result_Neural)*10)"
   ]
  }
 ],
 "metadata": {
  "kernelspec": {
   "display_name": "Python 3 (ipykernel)",
   "language": "python",
   "name": "python3"
  },
  "language_info": {
   "codemirror_mode": {
    "name": "ipython",
    "version": 3
   },
   "file_extension": ".py",
   "mimetype": "text/x-python",
   "name": "python",
   "nbconvert_exporter": "python",
   "pygments_lexer": "ipython3",
   "version": "3.9.2"
  },
  "orig_nbformat": 4
 },
 "nbformat": 4,
 "nbformat_minor": 2
}
